{
 "cells": [
  {
   "metadata": {},
   "cell_type": "markdown",
   "source": "# Importing the necessary libraries",
   "id": "571bf7f6166c9a63"
  },
  {
   "metadata": {
    "ExecuteTime": {
     "end_time": "2024-11-19T14:05:44.394960Z",
     "start_time": "2024-11-19T14:05:44.392429Z"
    }
   },
   "cell_type": "code",
   "source": [
    "import pandas as pd\n",
    "import os\n",
    "import matplotlib.pyplot as plt\n",
    "import seaborn as sns"
   ],
   "id": "483efe98bee5e75f",
   "outputs": [],
   "execution_count": 1
  },
  {
   "metadata": {},
   "cell_type": "markdown",
   "source": "# Loading dataset",
   "id": "3ce14190fc8b4d94"
  },
  {
   "metadata": {
    "ExecuteTime": {
     "end_time": "2024-11-19T14:05:44.408527Z",
     "start_time": "2024-11-19T14:05:44.406083Z"
    }
   },
   "cell_type": "code",
   "source": [
    "# Get the base directory of the project\n",
    "base_dir = os.path.abspath(os.path.join(os.getcwd(), '..'))\n",
    "\n",
    "# Construct the correct path to the dataset\n",
    "file_path = os.path.join(base_dir, 'dataset', 'iphone.csv')"
   ],
   "id": "5b0bd50d9ed486fe",
   "outputs": [],
   "execution_count": 2
  },
  {
   "metadata": {},
   "cell_type": "markdown",
   "source": "# Basic analysis\n",
   "id": "f7e2c722dd856985"
  },
  {
   "metadata": {
    "ExecuteTime": {
     "end_time": "2024-11-19T14:05:44.450125Z",
     "start_time": "2024-11-19T14:05:44.417959Z"
    }
   },
   "cell_type": "code",
   "source": [
    "print(\"Dataset information:\")\n",
    "df = pd.read_csv(file_path)\n",
    "df.info()"
   ],
   "id": "46f108b985ec77e0",
   "outputs": [
    {
     "name": "stdout",
     "output_type": "stream",
     "text": [
      "Dataset information:\n",
      "<class 'pandas.core.frame.DataFrame'>\n",
      "RangeIndex: 3062 entries, 0 to 3061\n",
      "Data columns (total 11 columns):\n",
      " #   Column             Non-Null Count  Dtype \n",
      "---  ------             --------------  ----- \n",
      " 0   productAsin        3062 non-null   object\n",
      " 1   country            3062 non-null   object\n",
      " 2   date               3062 non-null   object\n",
      " 3   isVerified         3062 non-null   bool  \n",
      " 4   ratingScore        3062 non-null   int64 \n",
      " 5   reviewTitle        3062 non-null   object\n",
      " 6   reviewDescription  2976 non-null   object\n",
      " 7   reviewUrl          3046 non-null   object\n",
      " 8   reviewedIn         3062 non-null   object\n",
      " 9   variant            3062 non-null   object\n",
      " 10  variantAsin        3062 non-null   object\n",
      "dtypes: bool(1), int64(1), object(9)\n",
      "memory usage: 242.3+ KB\n"
     ]
    }
   ],
   "execution_count": 3
  },
  {
   "metadata": {
    "ExecuteTime": {
     "end_time": "2024-11-19T14:05:44.894443Z",
     "start_time": "2024-11-19T14:05:44.884265Z"
    }
   },
   "cell_type": "code",
   "source": [
    "# Display the first 5 rows of the dataset\n",
    "df.head()\n"
   ],
   "id": "8482cea863505721",
   "outputs": [
    {
     "data": {
      "text/plain": [
       "  productAsin country        date  isVerified  ratingScore  \\\n",
       "0  B09G9BL5CP   India  11-08-2024        True            4   \n",
       "1  B09G9BL5CP   India  16-08-2024        True            5   \n",
       "2  B09G9BL5CP   India  14-05-2024        True            4   \n",
       "3  B09G9BL5CP   India  24-06-2024        True            5   \n",
       "4  B09G9BL5CP   India  18-05-2024        True            5   \n",
       "\n",
       "               reviewTitle                                  reviewDescription  \\\n",
       "0               No charger  Every thing is good about iPhones, there's not...   \n",
       "1          iPhone 13 256GB  It look so fabulous, I am android user switche...   \n",
       "2  Flip camera option nill  I tried to flip camera while recording but no ...   \n",
       "3                  Product                                       100% genuine   \n",
       "4             Good product         Happy to get the iPhone 13 in Amazon offer   \n",
       "\n",
       "                                           reviewUrl  \\\n",
       "0  https://www.amazon.in/gp/customer-reviews/R345...   \n",
       "1  https://www.amazon.in/gp/customer-reviews/R2HJ...   \n",
       "2  https://www.amazon.in/gp/customer-reviews/R3Y7...   \n",
       "3  https://www.amazon.in/gp/customer-reviews/R1P9...   \n",
       "4  https://www.amazon.in/gp/customer-reviews/R1XI...   \n",
       "\n",
       "                            reviewedIn                       variant  \\\n",
       "0  Reviewed in India on 11 August 2024  Colour: MidnightSize: 256 GB   \n",
       "1  Reviewed in India on 16 August 2024  Colour: MidnightSize: 256 GB   \n",
       "2     Reviewed in India on 14 May 2024  Colour: MidnightSize: 256 GB   \n",
       "3    Reviewed in India on 24 June 2024  Colour: MidnightSize: 256 GB   \n",
       "4     Reviewed in India on 18 May 2024  Colour: MidnightSize: 256 GB   \n",
       "\n",
       "  variantAsin  \n",
       "0  B09G9BQS98  \n",
       "1  B09G9BQS98  \n",
       "2  B09G9BQS98  \n",
       "3  B09G9BQS98  \n",
       "4  B09G9BQS98  "
      ],
      "text/html": [
       "<div>\n",
       "<style scoped>\n",
       "    .dataframe tbody tr th:only-of-type {\n",
       "        vertical-align: middle;\n",
       "    }\n",
       "\n",
       "    .dataframe tbody tr th {\n",
       "        vertical-align: top;\n",
       "    }\n",
       "\n",
       "    .dataframe thead th {\n",
       "        text-align: right;\n",
       "    }\n",
       "</style>\n",
       "<table border=\"1\" class=\"dataframe\">\n",
       "  <thead>\n",
       "    <tr style=\"text-align: right;\">\n",
       "      <th></th>\n",
       "      <th>productAsin</th>\n",
       "      <th>country</th>\n",
       "      <th>date</th>\n",
       "      <th>isVerified</th>\n",
       "      <th>ratingScore</th>\n",
       "      <th>reviewTitle</th>\n",
       "      <th>reviewDescription</th>\n",
       "      <th>reviewUrl</th>\n",
       "      <th>reviewedIn</th>\n",
       "      <th>variant</th>\n",
       "      <th>variantAsin</th>\n",
       "    </tr>\n",
       "  </thead>\n",
       "  <tbody>\n",
       "    <tr>\n",
       "      <th>0</th>\n",
       "      <td>B09G9BL5CP</td>\n",
       "      <td>India</td>\n",
       "      <td>11-08-2024</td>\n",
       "      <td>True</td>\n",
       "      <td>4</td>\n",
       "      <td>No charger</td>\n",
       "      <td>Every thing is good about iPhones, there's not...</td>\n",
       "      <td>https://www.amazon.in/gp/customer-reviews/R345...</td>\n",
       "      <td>Reviewed in India on 11 August 2024</td>\n",
       "      <td>Colour: MidnightSize: 256 GB</td>\n",
       "      <td>B09G9BQS98</td>\n",
       "    </tr>\n",
       "    <tr>\n",
       "      <th>1</th>\n",
       "      <td>B09G9BL5CP</td>\n",
       "      <td>India</td>\n",
       "      <td>16-08-2024</td>\n",
       "      <td>True</td>\n",
       "      <td>5</td>\n",
       "      <td>iPhone 13 256GB</td>\n",
       "      <td>It look so fabulous, I am android user switche...</td>\n",
       "      <td>https://www.amazon.in/gp/customer-reviews/R2HJ...</td>\n",
       "      <td>Reviewed in India on 16 August 2024</td>\n",
       "      <td>Colour: MidnightSize: 256 GB</td>\n",
       "      <td>B09G9BQS98</td>\n",
       "    </tr>\n",
       "    <tr>\n",
       "      <th>2</th>\n",
       "      <td>B09G9BL5CP</td>\n",
       "      <td>India</td>\n",
       "      <td>14-05-2024</td>\n",
       "      <td>True</td>\n",
       "      <td>4</td>\n",
       "      <td>Flip camera option nill</td>\n",
       "      <td>I tried to flip camera while recording but no ...</td>\n",
       "      <td>https://www.amazon.in/gp/customer-reviews/R3Y7...</td>\n",
       "      <td>Reviewed in India on 14 May 2024</td>\n",
       "      <td>Colour: MidnightSize: 256 GB</td>\n",
       "      <td>B09G9BQS98</td>\n",
       "    </tr>\n",
       "    <tr>\n",
       "      <th>3</th>\n",
       "      <td>B09G9BL5CP</td>\n",
       "      <td>India</td>\n",
       "      <td>24-06-2024</td>\n",
       "      <td>True</td>\n",
       "      <td>5</td>\n",
       "      <td>Product</td>\n",
       "      <td>100% genuine</td>\n",
       "      <td>https://www.amazon.in/gp/customer-reviews/R1P9...</td>\n",
       "      <td>Reviewed in India on 24 June 2024</td>\n",
       "      <td>Colour: MidnightSize: 256 GB</td>\n",
       "      <td>B09G9BQS98</td>\n",
       "    </tr>\n",
       "    <tr>\n",
       "      <th>4</th>\n",
       "      <td>B09G9BL5CP</td>\n",
       "      <td>India</td>\n",
       "      <td>18-05-2024</td>\n",
       "      <td>True</td>\n",
       "      <td>5</td>\n",
       "      <td>Good product</td>\n",
       "      <td>Happy to get the iPhone 13 in Amazon offer</td>\n",
       "      <td>https://www.amazon.in/gp/customer-reviews/R1XI...</td>\n",
       "      <td>Reviewed in India on 18 May 2024</td>\n",
       "      <td>Colour: MidnightSize: 256 GB</td>\n",
       "      <td>B09G9BQS98</td>\n",
       "    </tr>\n",
       "  </tbody>\n",
       "</table>\n",
       "</div>"
      ]
     },
     "execution_count": 4,
     "metadata": {},
     "output_type": "execute_result"
    }
   ],
   "execution_count": 4
  },
  {
   "metadata": {
    "ExecuteTime": {
     "end_time": "2024-11-19T14:05:44.968623Z",
     "start_time": "2024-11-19T14:05:44.960460Z"
    }
   },
   "cell_type": "code",
   "source": [
    "# Display the number of unique values for each column\n",
    "df.nunique()"
   ],
   "id": "393477d25b4782a",
   "outputs": [
    {
     "data": {
      "text/plain": [
       "productAsin             7\n",
       "country                 7\n",
       "date                  789\n",
       "isVerified              2\n",
       "ratingScore             5\n",
       "reviewTitle          2018\n",
       "reviewDescription    2297\n",
       "reviewUrl            2460\n",
       "reviewedIn           1255\n",
       "variant                86\n",
       "variantAsin            99\n",
       "dtype: int64"
      ]
     },
     "execution_count": 5,
     "metadata": {},
     "output_type": "execute_result"
    }
   ],
   "execution_count": 5
  },
  {
   "metadata": {
    "ExecuteTime": {
     "end_time": "2024-11-19T14:05:45.040394Z",
     "start_time": "2024-11-19T14:05:45.035933Z"
    }
   },
   "cell_type": "code",
   "source": [
    "# Display the number of missing values for each column\n",
    "df.isnull().sum()\n"
   ],
   "id": "8f1c6ab2070dce4a",
   "outputs": [
    {
     "data": {
      "text/plain": [
       "productAsin           0\n",
       "country               0\n",
       "date                  0\n",
       "isVerified            0\n",
       "ratingScore           0\n",
       "reviewTitle           0\n",
       "reviewDescription    86\n",
       "reviewUrl            16\n",
       "reviewedIn            0\n",
       "variant               0\n",
       "variantAsin           0\n",
       "dtype: int64"
      ]
     },
     "execution_count": 6,
     "metadata": {},
     "output_type": "execute_result"
    }
   ],
   "execution_count": 6
  },
  {
   "metadata": {
    "ExecuteTime": {
     "end_time": "2024-11-19T14:05:45.153766Z",
     "start_time": "2024-11-19T14:05:45.145702Z"
    }
   },
   "cell_type": "code",
   "source": [
    "print(\"Statistical information:\")\n",
    "df.describe()\n"
   ],
   "id": "baa2e72b9ee90a37",
   "outputs": [
    {
     "name": "stdout",
     "output_type": "stream",
     "text": [
      "Statistical information:\n"
     ]
    },
    {
     "data": {
      "text/plain": [
       "       ratingScore\n",
       "count  3062.000000\n",
       "mean      3.758981\n",
       "std       1.579033\n",
       "min       1.000000\n",
       "25%       3.000000\n",
       "50%       5.000000\n",
       "75%       5.000000\n",
       "max       5.000000"
      ],
      "text/html": [
       "<div>\n",
       "<style scoped>\n",
       "    .dataframe tbody tr th:only-of-type {\n",
       "        vertical-align: middle;\n",
       "    }\n",
       "\n",
       "    .dataframe tbody tr th {\n",
       "        vertical-align: top;\n",
       "    }\n",
       "\n",
       "    .dataframe thead th {\n",
       "        text-align: right;\n",
       "    }\n",
       "</style>\n",
       "<table border=\"1\" class=\"dataframe\">\n",
       "  <thead>\n",
       "    <tr style=\"text-align: right;\">\n",
       "      <th></th>\n",
       "      <th>ratingScore</th>\n",
       "    </tr>\n",
       "  </thead>\n",
       "  <tbody>\n",
       "    <tr>\n",
       "      <th>count</th>\n",
       "      <td>3062.000000</td>\n",
       "    </tr>\n",
       "    <tr>\n",
       "      <th>mean</th>\n",
       "      <td>3.758981</td>\n",
       "    </tr>\n",
       "    <tr>\n",
       "      <th>std</th>\n",
       "      <td>1.579033</td>\n",
       "    </tr>\n",
       "    <tr>\n",
       "      <th>min</th>\n",
       "      <td>1.000000</td>\n",
       "    </tr>\n",
       "    <tr>\n",
       "      <th>25%</th>\n",
       "      <td>3.000000</td>\n",
       "    </tr>\n",
       "    <tr>\n",
       "      <th>50%</th>\n",
       "      <td>5.000000</td>\n",
       "    </tr>\n",
       "    <tr>\n",
       "      <th>75%</th>\n",
       "      <td>5.000000</td>\n",
       "    </tr>\n",
       "    <tr>\n",
       "      <th>max</th>\n",
       "      <td>5.000000</td>\n",
       "    </tr>\n",
       "  </tbody>\n",
       "</table>\n",
       "</div>"
      ]
     },
     "execution_count": 7,
     "metadata": {},
     "output_type": "execute_result"
    }
   ],
   "execution_count": 7
  },
  {
   "metadata": {},
   "cell_type": "markdown",
   "source": "# Detailed Data Analysis\n",
   "id": "6185c523b9bbe9e8"
  },
  {
   "metadata": {
    "ExecuteTime": {
     "end_time": "2024-11-19T14:05:45.496563Z",
     "start_time": "2024-11-19T14:05:45.343454Z"
    }
   },
   "cell_type": "code",
   "source": [
    "# using matplotlib for visualization\n",
    "\n",
    "# visualise the field ratingScore\n",
    "# visualise each score with different color\n",
    "\n",
    "plt.figure(figsize=(10,5))\n",
    "sns.countplot(x='ratingScore', data=df)\n",
    "plt.title('Rating Score')\n",
    "plt.show()\n"
   ],
   "id": "38224f1b8eb1f3c0",
   "outputs": [
    {
     "data": {
      "text/plain": [
       "<Figure size 1000x500 with 1 Axes>"
      ],
      "image/png": "[encoded data removed]"
     },
     "metadata": {},
     "output_type": "display_data"
    }
   ],
   "execution_count": 8
  },
  {
   "metadata": {
    "ExecuteTime": {
     "end_time": "2024-11-19T14:05:45.579410Z",
     "start_time": "2024-11-19T14:05:45.574241Z"
    }
   },
   "cell_type": "code",
   "source": [
    "# checking amount of data available for each country\n",
    "\n",
    "data_per_country = df.groupby('country').size()\n",
    "print(data_per_country)"
   ],
   "id": "561162d7b53205b1",
   "outputs": [
    {
     "name": "stdout",
     "output_type": "stream",
     "text": [
      "country\n",
      "Canada                     4\n",
      "Egypt                      1\n",
      "India                   2229\n",
      "Japan                    158\n",
      "Mexico                    11\n",
      "United Arab Emirates      80\n",
      "United States            579\n",
      "dtype: int64\n"
     ]
    }
   ],
   "execution_count": 9
  },
  {
   "metadata": {},
   "cell_type": "markdown",
   "source": "",
   "id": "ece006ffb9d17228"
  },
  {
   "metadata": {
    "ExecuteTime": {
     "end_time": "2024-11-19T14:07:55.335292Z",
     "start_time": "2024-11-19T14:07:55.131287Z"
    }
   },
   "cell_type": "code",
   "source": [
    "# visualise the distribution of ratingScore for each country\n",
    "\n",
    "plt.figure(figsize=(12, 6))\n",
    "sns.countplot(x='ratingScore', hue='country', data=df, palette='Set2')\n",
    "plt.title('Rating Score Distribution by Country', fontsize=16)\n",
    "plt.xlabel('Rating Score', fontsize=14)\n",
    "plt.ylabel('Count', fontsize=14)\n",
    "plt.legend(title='Country', bbox_to_anchor=(1.05, 1), loc='upper left')\n",
    "plt.xticks(fontsize=12)\n",
    "plt.yticks(fontsize=12)\n",
    "plt.grid(axis='y', linestyle='--', alpha=0.7)\n",
    "plt.tight_layout()\n",
    "plt.show()\n"
   ],
   "id": "c187de9c77d09618",
   "outputs": [
    {
     "data": {
      "text/plain": [
       "<Figure size 1200x600 with 1 Axes>"
      ],
      "image/png": "[encoded data removed]"
     },
     "metadata": {},
     "output_type": "display_data"
    }
   ],
   "execution_count": 11
  },
  {
   "metadata": {},
   "cell_type": "code",
   "outputs": [],
   "execution_count": null,
   "source": "",
   "id": "5e69edd2324d6869"
  }
 ],
 "metadata": {
  "kernelspec": {
   "display_name": "Python 3",
   "language": "python",
   "name": "python3"
  },
  "language_info": {
   "codemirror_mode": {
    "name": "ipython",
    "version": 2
   },
   "file_extension": ".py",
   "mimetype": "text/x-python",
   "name": "python",
   "nbconvert_exporter": "python",
   "pygments_lexer": "ipython2",
   "version": "2.7.6"
  }
 },
 "nbformat": 4,
 "nbformat_minor": 5
}
